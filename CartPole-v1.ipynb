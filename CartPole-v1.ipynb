{
 "cells": [
  {
   "cell_type": "code",
   "execution_count": null,
   "id": "24f6456e",
   "metadata": {},
   "outputs": [],
   "source": [
    "# https://youtu.be/2sp_eucoX2I\n",
    "import gymnasium as gym\n",
    "import numpy as np\n",
    "import time\n",
    "\n",
    "env=gym.make('CartPole-v1', render_mode='human') \n",
    "(state,_)=env.reset()\n",
    "env.render()\n",
    "env.step(0)"
   ]
  },
  {
   "cell_type": "code",
   "execution_count": null,
   "id": "1231bfb8",
   "metadata": {},
   "outputs": [],
   "source": [
    "env.observation_space\n",
    "env.observation_space.high\n",
    "env.observation_space.low\n",
    "env.action_space\n",
    "env.spec\n",
    "env.spec.reward_threshold\n",
    "episodeNumber=100\n",
    "timeSteps=100\n",
    "\n",
    "for episodeIndex in range(episodeNumber):\n",
    "    initial_state=env.reset()\n",
    "    print(episodeIndex)\n",
    "    env.render()\n",
    "    appendedObservations=[]\n",
    "    for timeIndex in range(timeSteps):\n",
    "        print(timeIndex)\n",
    "        random_action=env.action_space.sample()\n",
    "        observation, reward, terminated, truncated, info =env.step(random_action)\n",
    "        appendedObservations.append(observation)\n",
    "        time.sleep(0.01)\n",
    "        if (terminated):\n",
    "                time.sleep(0.1)\n",
    "                break"
   ]
  },
  {
   "cell_type": "code",
   "execution_count": null,
   "id": "a79acb06",
   "metadata": {},
   "outputs": [],
   "source": [
    "env.close()"
   ]
  }
 ],
 "metadata": {
  "kernelspec": {
   "display_name": "Python 3 (ipykernel)",
   "language": "python",
   "name": "python3"
  },
  "language_info": {
   "codemirror_mode": {
    "name": "ipython",
    "version": 3
   },
   "file_extension": ".py",
   "mimetype": "text/x-python",
   "name": "python",
   "nbconvert_exporter": "python",
   "pygments_lexer": "ipython3",
   "version": "3.8.16"
  }
 },
 "nbformat": 4,
 "nbformat_minor": 5
}
